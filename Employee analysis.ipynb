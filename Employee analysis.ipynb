{
 "cells": [
  {
   "cell_type": "code",
   "execution_count": 1,
   "id": "1069dd6a-91ed-494e-93ea-c499a8c657ec",
   "metadata": {},
   "outputs": [],
   "source": [
    "import pandas as pd\n",
    "import matplotlib.pyplot as plt\n",
    "import seaborn as sns \n",
    "import numpy as np"
   ]
  },
  {
   "cell_type": "code",
   "execution_count": 3,
   "id": "f954160e-9d05-4455-b7e9-b544b2fd1831",
   "metadata": {},
   "outputs": [],
   "source": [
    "df = pd.read_csv(r\"C:\\Users\\LENOVO\\Downloads\\Employee.csv\")"
   ]
  },
  {
   "cell_type": "code",
   "execution_count": 5,
   "id": "a7096c1d-e203-4c35-8866-ede057b96c57",
   "metadata": {},
   "outputs": [
    {
     "data": {
      "text/html": [
       "<div>\n",
       "<style scoped>\n",
       "    .dataframe tbody tr th:only-of-type {\n",
       "        vertical-align: middle;\n",
       "    }\n",
       "\n",
       "    .dataframe tbody tr th {\n",
       "        vertical-align: top;\n",
       "    }\n",
       "\n",
       "    .dataframe thead th {\n",
       "        text-align: right;\n",
       "    }\n",
       "</style>\n",
       "<table border=\"1\" class=\"dataframe\">\n",
       "  <thead>\n",
       "    <tr style=\"text-align: right;\">\n",
       "      <th></th>\n",
       "      <th>Education</th>\n",
       "      <th>JoiningYear</th>\n",
       "      <th>City</th>\n",
       "      <th>PaymentTier</th>\n",
       "      <th>Age</th>\n",
       "      <th>Gender</th>\n",
       "      <th>EverBenched</th>\n",
       "      <th>ExperienceInCurrentDomain</th>\n",
       "      <th>LeaveOrNot</th>\n",
       "    </tr>\n",
       "  </thead>\n",
       "  <tbody>\n",
       "    <tr>\n",
       "      <th>0</th>\n",
       "      <td>Bachelors</td>\n",
       "      <td>2017</td>\n",
       "      <td>Bangalore</td>\n",
       "      <td>3</td>\n",
       "      <td>34</td>\n",
       "      <td>Male</td>\n",
       "      <td>No</td>\n",
       "      <td>0</td>\n",
       "      <td>0</td>\n",
       "    </tr>\n",
       "    <tr>\n",
       "      <th>1</th>\n",
       "      <td>Bachelors</td>\n",
       "      <td>2013</td>\n",
       "      <td>Pune</td>\n",
       "      <td>1</td>\n",
       "      <td>28</td>\n",
       "      <td>Female</td>\n",
       "      <td>No</td>\n",
       "      <td>3</td>\n",
       "      <td>1</td>\n",
       "    </tr>\n",
       "    <tr>\n",
       "      <th>2</th>\n",
       "      <td>Bachelors</td>\n",
       "      <td>2014</td>\n",
       "      <td>New Delhi</td>\n",
       "      <td>3</td>\n",
       "      <td>38</td>\n",
       "      <td>Female</td>\n",
       "      <td>No</td>\n",
       "      <td>2</td>\n",
       "      <td>0</td>\n",
       "    </tr>\n",
       "    <tr>\n",
       "      <th>3</th>\n",
       "      <td>Masters</td>\n",
       "      <td>2016</td>\n",
       "      <td>Bangalore</td>\n",
       "      <td>3</td>\n",
       "      <td>27</td>\n",
       "      <td>Male</td>\n",
       "      <td>No</td>\n",
       "      <td>5</td>\n",
       "      <td>1</td>\n",
       "    </tr>\n",
       "    <tr>\n",
       "      <th>4</th>\n",
       "      <td>Masters</td>\n",
       "      <td>2017</td>\n",
       "      <td>Pune</td>\n",
       "      <td>3</td>\n",
       "      <td>24</td>\n",
       "      <td>Male</td>\n",
       "      <td>Yes</td>\n",
       "      <td>2</td>\n",
       "      <td>1</td>\n",
       "    </tr>\n",
       "  </tbody>\n",
       "</table>\n",
       "</div>"
      ],
      "text/plain": [
       "   Education  JoiningYear       City  PaymentTier  Age  Gender EverBenched  \\\n",
       "0  Bachelors         2017  Bangalore            3   34    Male          No   \n",
       "1  Bachelors         2013       Pune            1   28  Female          No   \n",
       "2  Bachelors         2014  New Delhi            3   38  Female          No   \n",
       "3    Masters         2016  Bangalore            3   27    Male          No   \n",
       "4    Masters         2017       Pune            3   24    Male         Yes   \n",
       "\n",
       "   ExperienceInCurrentDomain  LeaveOrNot  \n",
       "0                          0           0  \n",
       "1                          3           1  \n",
       "2                          2           0  \n",
       "3                          5           1  \n",
       "4                          2           1  "
      ]
     },
     "execution_count": 5,
     "metadata": {},
     "output_type": "execute_result"
    }
   ],
   "source": [
    "df.head()"
   ]
  },
  {
   "cell_type": "markdown",
   "id": "3b1d197e-96e2-410e-a013-3dccad130e3c",
   "metadata": {},
   "source": [
    "**What is the distribution of educational qualifications among employees?**"
   ]
  },
  {
   "cell_type": "code",
   "execution_count": 26,
   "id": "d2025e3a-25c1-4339-a951-b842ea9b19a0",
   "metadata": {},
   "outputs": [
    {
     "data": {
      "text/html": [
       "<div>\n",
       "<style scoped>\n",
       "    .dataframe tbody tr th:only-of-type {\n",
       "        vertical-align: middle;\n",
       "    }\n",
       "\n",
       "    .dataframe tbody tr th {\n",
       "        vertical-align: top;\n",
       "    }\n",
       "\n",
       "    .dataframe thead th {\n",
       "        text-align: right;\n",
       "    }\n",
       "</style>\n",
       "<table border=\"1\" class=\"dataframe\">\n",
       "  <thead>\n",
       "    <tr style=\"text-align: right;\">\n",
       "      <th></th>\n",
       "      <th>Education</th>\n",
       "      <th>Number of Employees</th>\n",
       "    </tr>\n",
       "  </thead>\n",
       "  <tbody>\n",
       "    <tr>\n",
       "      <th>0</th>\n",
       "      <td>Bachelors</td>\n",
       "      <td>3601</td>\n",
       "    </tr>\n",
       "    <tr>\n",
       "      <th>1</th>\n",
       "      <td>Masters</td>\n",
       "      <td>873</td>\n",
       "    </tr>\n",
       "    <tr>\n",
       "      <th>2</th>\n",
       "      <td>PHD</td>\n",
       "      <td>179</td>\n",
       "    </tr>\n",
       "  </tbody>\n",
       "</table>\n",
       "</div>"
      ],
      "text/plain": [
       "   Education  Number of Employees\n",
       "0  Bachelors                 3601\n",
       "1    Masters                  873\n",
       "2        PHD                  179"
      ]
     },
     "execution_count": 26,
     "metadata": {},
     "output_type": "execute_result"
    }
   ],
   "source": [
    "df['Education'].value_counts().reset_index(name = 'Number of Employees')"
   ]
  },
  {
   "cell_type": "markdown",
   "id": "e492d739-0bd1-416f-8d58-fc420f44a7e2",
   "metadata": {},
   "source": [
    "- Bachelor’s degree holders make up the majority of the workforce with 3,601 employees (a dominant proportion).\n",
    "\n",
    "- Master’s degree holders account for 873 employees, showing a smaller but significant representation.\n",
    "\n",
    "- PhD holders are the least represented, with only 179 employees.\n",
    "\n",
    "**Insight:**\n",
    "\n",
    "*The company’s workforce is heavily concentrated around employees with undergraduate degrees, suggesting it may hire primarily for roles that don’t require advanced academic qualifications. This could also highlight an opportunity for:*\n",
    "\n",
    "- Upskilling programs for employees with Bachelor’s degrees who want to pursue higher education.\n",
    "\n",
    "- Attracting more highly specialized talent (e.g., PhD holders) for research-intensive or leadership roles."
   ]
  },
  {
   "cell_type": "code",
   "execution_count": null,
   "id": "1138bedf-d181-48d5-bfe7-e042111c4b60",
   "metadata": {},
   "outputs": [],
   "source": []
  },
  {
   "cell_type": "markdown",
   "id": "7a1a8d83-c58d-4007-a3bb-61a97baad056",
   "metadata": {},
   "source": [
    "**How does the length of service (Joining Year) vary across different cities?**"
   ]
  },
  {
   "cell_type": "code",
   "execution_count": 18,
   "id": "bb17a9db-6a7e-4e16-9b84-b8db0da8ca38",
   "metadata": {},
   "outputs": [],
   "source": [
    "from datetime import datetime\n",
    "current_year = datetime.now().year\n",
    "df['Length of Service'] = current_year - df['JoiningYear']"
   ]
  },
  {
   "cell_type": "code",
   "execution_count": 24,
   "id": "f3bd4647-1beb-4faf-83ff-2c71d3e2ad16",
   "metadata": {},
   "outputs": [
    {
     "data": {
      "text/html": [
       "<div>\n",
       "<style scoped>\n",
       "    .dataframe tbody tr th:only-of-type {\n",
       "        vertical-align: middle;\n",
       "    }\n",
       "\n",
       "    .dataframe tbody tr th {\n",
       "        vertical-align: top;\n",
       "    }\n",
       "\n",
       "    .dataframe thead th {\n",
       "        text-align: right;\n",
       "    }\n",
       "</style>\n",
       "<table border=\"1\" class=\"dataframe\">\n",
       "  <thead>\n",
       "    <tr style=\"text-align: right;\">\n",
       "      <th></th>\n",
       "      <th>City</th>\n",
       "      <th>Average Length of Service</th>\n",
       "    </tr>\n",
       "  </thead>\n",
       "  <tbody>\n",
       "    <tr>\n",
       "      <th>0</th>\n",
       "      <td>Bangalore</td>\n",
       "      <td>10.140485</td>\n",
       "    </tr>\n",
       "    <tr>\n",
       "      <th>1</th>\n",
       "      <td>New Delhi</td>\n",
       "      <td>9.477960</td>\n",
       "    </tr>\n",
       "    <tr>\n",
       "      <th>2</th>\n",
       "      <td>Pune</td>\n",
       "      <td>9.998423</td>\n",
       "    </tr>\n",
       "  </tbody>\n",
       "</table>\n",
       "</div>"
      ],
      "text/plain": [
       "        City  Average Length of Service\n",
       "0  Bangalore                  10.140485\n",
       "1  New Delhi                   9.477960\n",
       "2       Pune                   9.998423"
      ]
     },
     "execution_count": 24,
     "metadata": {},
     "output_type": "execute_result"
    }
   ],
   "source": [
    "df.groupby('City')['Length of Service'].mean().reset_index(name = 'Average Length of Service')"
   ]
  },
  {
   "cell_type": "markdown",
   "id": "e4257cd2-15d8-4b96-9334-2ab350db3487",
   "metadata": {},
   "source": [
    "- Bangalore has the highest average length of service at 10.14 years.\n",
    "\n",
    "- Pune comes next with 9.99 years.\n",
    "\n",
    "- New Delhi has the lowest at 9.48 years.\n",
    "\n",
    "**Key Insight:**\n",
    "\n",
    "*Employees in Bangalore tend to stay the longest with the company on average. Pune follows closely, while New Delhi has slightly shorter employee tenure. Though the differences are not huge, HR might explore factors contributing to higher retention in Bangalore and Pune to improve tenure in New Delhi.*"
   ]
  },
  {
   "cell_type": "code",
   "execution_count": null,
   "id": "367530ca-aab4-4c5f-ae76-5a21456c8796",
   "metadata": {},
   "outputs": [],
   "source": []
  },
  {
   "cell_type": "markdown",
   "id": "7806d9c0-ac54-41b0-a386-61595c1f6150",
   "metadata": {},
   "source": [
    "**Is there a correlation between Payment Tier and Experience in Current Domain?**"
   ]
  },
  {
   "cell_type": "code",
   "execution_count": 28,
   "id": "6f2edb7a-e5e2-4063-83a8-be9e75e6e176",
   "metadata": {},
   "outputs": [
    {
     "name": "stdout",
     "output_type": "stream",
     "text": [
      "Spearman correlation: 0.015191447440754312, P-Value: 0.3001862448012146\n"
     ]
    }
   ],
   "source": [
    "from scipy.stats import spearmanr \n",
    "x = df['PaymentTier']\n",
    "y = df['ExperienceInCurrentDomain']\n",
    "corr, p_value = spearmanr(x,y)\n",
    "print(f'Spearman correlation: {corr}, P-Value: {p_value}')"
   ]
  },
  {
   "cell_type": "markdown",
   "id": "f9b5b7ee-78e2-4649-b384-b258d83a28b5",
   "metadata": {},
   "source": [
    "**Key Takeaway**\n",
    "\n",
    "- People with more experience are not consistently placed in higher payment tiers.\n",
    "\n",
    "- Other factors (like education) could be influencing payment tier more strongly."
   ]
  },
  {
   "cell_type": "code",
   "execution_count": null,
   "id": "66f20ad5-736b-4c42-aa45-1d2e15b0fb8b",
   "metadata": {},
   "outputs": [],
   "source": []
  },
  {
   "cell_type": "markdown",
   "id": "a832a044-c8f2-4f11-acc4-dfe9ca273e76",
   "metadata": {},
   "source": [
    "**What is the gender distribution within the workforce?**"
   ]
  },
  {
   "cell_type": "code",
   "execution_count": 37,
   "id": "31368a23-a14f-4c8d-85b0-66f7d96df34c",
   "metadata": {},
   "outputs": [
    {
     "data": {
      "text/plain": [
       "Gender\n",
       "Male      2778\n",
       "Female    1875\n",
       "Name: count, dtype: int64"
      ]
     },
     "execution_count": 37,
     "metadata": {},
     "output_type": "execute_result"
    }
   ],
   "source": [
    "df['Gender'].value_counts()"
   ]
  },
  {
   "cell_type": "markdown",
   "id": "d7c3f40f-ed03-4cc3-9848-d1c98c16474f",
   "metadata": {},
   "source": [
    "- Male employees make up the majority of the workforce with 2,778 employees (≈60%).\n",
    "\n",
    "- Female employees account for 1,875 employees (≈40%).\n",
    "\n",
    "**Insight:**\n",
    "\n",
    "*The company’s workforce shows a 60:40 male-to-female ratio, which reflects some level of gender diversity but also highlights a gender gap. This could indicate:*\n",
    "\n",
    "- An opportunity to promote gender balance through targeted recruitment, especially in roles or departments (No department Column though) where women are underrepresented.\n",
    "\n",
    "- A need to explore policies for inclusion and equity to encourage retention and growth for female employees."
   ]
  },
  {
   "cell_type": "code",
   "execution_count": null,
   "id": "2800f280-5056-4b4e-b9ea-87c8baf39c69",
   "metadata": {},
   "outputs": [],
   "source": []
  },
  {
   "cell_type": "markdown",
   "id": "2eeb4fe5-7bb4-47b2-a909-6a227eb575d8",
   "metadata": {},
   "source": [
    "**Are there any patterns in leave-taking behavior among employees?**"
   ]
  },
  {
   "cell_type": "code",
   "execution_count": 44,
   "id": "eb0cd756-b7c3-4e19-9d04-094dc73759b0",
   "metadata": {},
   "outputs": [
    {
     "data": {
      "text/plain": [
       "LeaveOrNot\n",
       "0    65.613583\n",
       "1    34.386417\n",
       "Name: proportion, dtype: float64"
      ]
     },
     "execution_count": 44,
     "metadata": {},
     "output_type": "execute_result"
    }
   ],
   "source": [
    "leave_counts = df['LeaveOrNot'].value_counts()\n",
    "leave_percentage = df['LeaveOrNot'].value_counts(normalize=True) * 100\n",
    "leave_percentage"
   ]
  },
  {
   "cell_type": "code",
   "execution_count": 50,
   "id": "52b5606b-d8cd-451e-b145-180519ce7258",
   "metadata": {},
   "outputs": [
    {
     "data": {
      "text/html": [
       "<div>\n",
       "<style scoped>\n",
       "    .dataframe tbody tr th:only-of-type {\n",
       "        vertical-align: middle;\n",
       "    }\n",
       "\n",
       "    .dataframe tbody tr th {\n",
       "        vertical-align: top;\n",
       "    }\n",
       "\n",
       "    .dataframe thead th {\n",
       "        text-align: right;\n",
       "    }\n",
       "</style>\n",
       "<table border=\"1\" class=\"dataframe\">\n",
       "  <thead>\n",
       "    <tr style=\"text-align: right;\">\n",
       "      <th>LeaveOrNot</th>\n",
       "      <th>0</th>\n",
       "      <th>1</th>\n",
       "    </tr>\n",
       "    <tr>\n",
       "      <th>Education</th>\n",
       "      <th></th>\n",
       "      <th></th>\n",
       "    </tr>\n",
       "  </thead>\n",
       "  <tbody>\n",
       "    <tr>\n",
       "      <th>Bachelors</th>\n",
       "      <td>68.647598</td>\n",
       "      <td>31.352402</td>\n",
       "    </tr>\n",
       "    <tr>\n",
       "      <th>Masters</th>\n",
       "      <td>51.202749</td>\n",
       "      <td>48.797251</td>\n",
       "    </tr>\n",
       "    <tr>\n",
       "      <th>PHD</th>\n",
       "      <td>74.860335</td>\n",
       "      <td>25.139665</td>\n",
       "    </tr>\n",
       "  </tbody>\n",
       "</table>\n",
       "</div>"
      ],
      "text/plain": [
       "LeaveOrNot          0          1\n",
       "Education                       \n",
       "Bachelors   68.647598  31.352402\n",
       "Masters     51.202749  48.797251\n",
       "PHD         74.860335  25.139665"
      ]
     },
     "execution_count": 50,
     "metadata": {},
     "output_type": "execute_result"
    }
   ],
   "source": [
    "education_leave = df.groupby('Education')['LeaveOrNot'].value_counts(normalize=True).unstack() * 100\n",
    "education_leave"
   ]
  },
  {
   "cell_type": "code",
   "execution_count": 52,
   "id": "f315f06c-d686-4e42-8c3a-3403d9bd6d00",
   "metadata": {},
   "outputs": [
    {
     "data": {
      "text/html": [
       "<div>\n",
       "<style scoped>\n",
       "    .dataframe tbody tr th:only-of-type {\n",
       "        vertical-align: middle;\n",
       "    }\n",
       "\n",
       "    .dataframe tbody tr th {\n",
       "        vertical-align: top;\n",
       "    }\n",
       "\n",
       "    .dataframe thead th {\n",
       "        text-align: right;\n",
       "    }\n",
       "</style>\n",
       "<table border=\"1\" class=\"dataframe\">\n",
       "  <thead>\n",
       "    <tr style=\"text-align: right;\">\n",
       "      <th>LeaveOrNot</th>\n",
       "      <th>0</th>\n",
       "      <th>1</th>\n",
       "    </tr>\n",
       "    <tr>\n",
       "      <th>Gender</th>\n",
       "      <th></th>\n",
       "      <th></th>\n",
       "    </tr>\n",
       "  </thead>\n",
       "  <tbody>\n",
       "    <tr>\n",
       "      <th>Female</th>\n",
       "      <td>52.853333</td>\n",
       "      <td>47.146667</td>\n",
       "    </tr>\n",
       "    <tr>\n",
       "      <th>Male</th>\n",
       "      <td>74.226062</td>\n",
       "      <td>25.773938</td>\n",
       "    </tr>\n",
       "  </tbody>\n",
       "</table>\n",
       "</div>"
      ],
      "text/plain": [
       "LeaveOrNot          0          1\n",
       "Gender                          \n",
       "Female      52.853333  47.146667\n",
       "Male        74.226062  25.773938"
      ]
     },
     "execution_count": 52,
     "metadata": {},
     "output_type": "execute_result"
    }
   ],
   "source": [
    "gender_leave = df.groupby('Gender')['LeaveOrNot'].value_counts(normalize=True).unstack() * 100\n",
    "gender_leave "
   ]
  },
  {
   "cell_type": "code",
   "execution_count": 58,
   "id": "cbb17c35-8ad6-4d55-99ec-0ec3b2a41f95",
   "metadata": {},
   "outputs": [
    {
     "data": {
      "text/html": [
       "<div>\n",
       "<style scoped>\n",
       "    .dataframe tbody tr th:only-of-type {\n",
       "        vertical-align: middle;\n",
       "    }\n",
       "\n",
       "    .dataframe tbody tr th {\n",
       "        vertical-align: top;\n",
       "    }\n",
       "\n",
       "    .dataframe thead th {\n",
       "        text-align: right;\n",
       "    }\n",
       "</style>\n",
       "<table border=\"1\" class=\"dataframe\">\n",
       "  <thead>\n",
       "    <tr style=\"text-align: right;\">\n",
       "      <th>LeaveOrNot</th>\n",
       "      <th>0</th>\n",
       "      <th>1</th>\n",
       "    </tr>\n",
       "    <tr>\n",
       "      <th>PaymentTier</th>\n",
       "      <th></th>\n",
       "      <th></th>\n",
       "    </tr>\n",
       "  </thead>\n",
       "  <tbody>\n",
       "    <tr>\n",
       "      <th>1</th>\n",
       "      <td>63.374486</td>\n",
       "      <td>36.625514</td>\n",
       "    </tr>\n",
       "    <tr>\n",
       "      <th>2</th>\n",
       "      <td>40.087146</td>\n",
       "      <td>59.912854</td>\n",
       "    </tr>\n",
       "    <tr>\n",
       "      <th>3</th>\n",
       "      <td>72.479954</td>\n",
       "      <td>27.520046</td>\n",
       "    </tr>\n",
       "  </tbody>\n",
       "</table>\n",
       "</div>"
      ],
      "text/plain": [
       "LeaveOrNot           0          1\n",
       "PaymentTier                      \n",
       "1            63.374486  36.625514\n",
       "2            40.087146  59.912854\n",
       "3            72.479954  27.520046"
      ]
     },
     "execution_count": 58,
     "metadata": {},
     "output_type": "execute_result"
    }
   ],
   "source": [
    "payment_leave = df.groupby('PaymentTier')['LeaveOrNot'].value_counts(normalize=True).unstack() * 100\n",
    "payment_leave"
   ]
  },
  {
   "cell_type": "code",
   "execution_count": 60,
   "id": "8101de1b-8805-4c6e-a1a4-bb4e08d8d596",
   "metadata": {},
   "outputs": [
    {
     "data": {
      "text/html": [
       "<div>\n",
       "<style scoped>\n",
       "    .dataframe tbody tr th:only-of-type {\n",
       "        vertical-align: middle;\n",
       "    }\n",
       "\n",
       "    .dataframe tbody tr th {\n",
       "        vertical-align: top;\n",
       "    }\n",
       "\n",
       "    .dataframe thead th {\n",
       "        text-align: right;\n",
       "    }\n",
       "</style>\n",
       "<table border=\"1\" class=\"dataframe\">\n",
       "  <thead>\n",
       "    <tr style=\"text-align: right;\">\n",
       "      <th>LeaveOrNot</th>\n",
       "      <th>0</th>\n",
       "      <th>1</th>\n",
       "    </tr>\n",
       "    <tr>\n",
       "      <th>City</th>\n",
       "      <th></th>\n",
       "      <th></th>\n",
       "    </tr>\n",
       "  </thead>\n",
       "  <tbody>\n",
       "    <tr>\n",
       "      <th>Bangalore</th>\n",
       "      <td>73.294434</td>\n",
       "      <td>26.705566</td>\n",
       "    </tr>\n",
       "    <tr>\n",
       "      <th>New Delhi</th>\n",
       "      <td>68.366465</td>\n",
       "      <td>31.633535</td>\n",
       "    </tr>\n",
       "    <tr>\n",
       "      <th>Pune</th>\n",
       "      <td>49.605678</td>\n",
       "      <td>50.394322</td>\n",
       "    </tr>\n",
       "  </tbody>\n",
       "</table>\n",
       "</div>"
      ],
      "text/plain": [
       "LeaveOrNot          0          1\n",
       "City                            \n",
       "Bangalore   73.294434  26.705566\n",
       "New Delhi   68.366465  31.633535\n",
       "Pune        49.605678  50.394322"
      ]
     },
     "execution_count": 60,
     "metadata": {},
     "output_type": "execute_result"
    }
   ],
   "source": [
    "city_leave = df.groupby('City')['LeaveOrNot'].value_counts(normalize=True).unstack() * 100\n",
    "city_leave"
   ]
  },
  {
   "cell_type": "code",
   "execution_count": 64,
   "id": "dcb67d40-75a0-403d-a727-317f04e059e1",
   "metadata": {},
   "outputs": [
    {
     "name": "stdout",
     "output_type": "stream",
     "text": [
      "Correlation between Experience and Leave: -0.0305\n"
     ]
    }
   ],
   "source": [
    "corr = df['ExperienceInCurrentDomain'].corr(df['LeaveOrNot'])\n",
    "print(f\"Correlation between Experience and Leave: {corr:.4f}\")"
   ]
  },
  {
   "cell_type": "markdown",
   "id": "17090bbf-0d85-4a03-8757-57e976719d17",
   "metadata": {},
   "source": [
    "**Overall Leave Rate**\n",
    "\n",
    "- 65.6% of employees stay, while 34.4% leave. This means roughly 1 in 3 employees leave, which is a substantial proportion for HR to address.\n",
    "\n",
    "**Insight:**\n",
    "\n",
    "- Master’s degree holders have the highest leave rate (48.8%), suggesting they might be more mobile in the job market or seeking roles that match their advanced qualifications.\n",
    "\n",
    "- PhD holders show the highest retention (74.9%), likely because of specialized roles and long-term career commitments.\n",
    "\n",
    "- Female employees are almost twice as likely to leave (47.1%) compared to male employees (25.8%).\n",
    "This could signal potential issues with workplace inclusion, flexibility, or advancement opportunities for women (HR could look into this) \n",
    "\n",
    "- Employees in Payment Tier 2 have the highest attrition (59.9%), possibly because they’re in mid-level roles and are seeking higher compensation or growth opportunities.\n",
    "\n",
    "- Employees in Tier 3 (highest salary) have stronger retention, likely due to job satisfaction and seniority\n",
    "\n",
    "- Pune has the highest leave rate (50.4%), meaning 1 in 2 employees in Pune tend to leave.\n",
    "\n",
    "- Bangalore employees are the most stable (26.7% leave rate).\n",
    "\n",
    "*This suggests location-specific factors (e.g., job market competitiveness, cost of living) may influence attrition.*\n",
    "\n",
    "- Correlation coefficient = -0.0305\n",
    "\n",
    "*This very weak negative correlation suggests experience in the current domain does not strongly influence whether employees leave or stay. Other factors (education, gender, location) are likely more important.*\n",
    "\n",
    "**Key Takeaways**\n",
    "\n",
    "- Female employees and those in Payment Tier 2 are at the highest risk of leaving.\n",
    "\n",
    "- Pune is a hotspot for attrition compared to Bangalore and New Delhi.\n",
    "\n",
    "- Master’s degree holders are more likely to leave than employees with other qualifications.\n",
    "\n"
   ]
  },
  {
   "cell_type": "code",
   "execution_count": null,
   "id": "f351f71d-37e1-4f0b-8a53-2b1509dc40ee",
   "metadata": {},
   "outputs": [],
   "source": []
  },
  {
   "cell_type": "markdown",
   "id": "f5ec6309-b596-415b-9c0a-8b834d092069",
   "metadata": {},
   "source": [
    "**Analysis Done by Ediomo Etesin**\n",
    "\n",
    "*ediomoetesin40@gmail.com*"
   ]
  },
  {
   "cell_type": "code",
   "execution_count": null,
   "id": "c1df0292-3059-4a26-a2a2-654bf26f6f45",
   "metadata": {},
   "outputs": [],
   "source": []
  }
 ],
 "metadata": {
  "kernelspec": {
   "display_name": "Python 3 (ipykernel)",
   "language": "python",
   "name": "python3"
  },
  "language_info": {
   "codemirror_mode": {
    "name": "ipython",
    "version": 3
   },
   "file_extension": ".py",
   "mimetype": "text/x-python",
   "name": "python",
   "nbconvert_exporter": "python",
   "pygments_lexer": "ipython3",
   "version": "3.12.4"
  }
 },
 "nbformat": 4,
 "nbformat_minor": 5
}
